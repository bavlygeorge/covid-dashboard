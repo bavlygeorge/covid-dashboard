{
 "cells": [
  {
   "cell_type": "code",
   "execution_count": 1,
   "id": "748243f4",
   "metadata": {},
   "outputs": [],
   "source": [
    "# !pip install dash_bootstrap_components"
   ]
  },
  {
   "cell_type": "code",
   "execution_count": 2,
   "id": "2889b7f1",
   "metadata": {},
   "outputs": [],
   "source": [
    "from jupyter_dash import JupyterDash\n",
    "from dash import html\n",
    "from dash import dcc\n",
    "from dash.dependencies import Input, Output, State\n",
    "import dash_bootstrap_components as dbc\n",
    "import plotly.express as px\n",
    "import pandas as pd\n",
    "import numpy as np\n",
    "\n",
    "app = JupyterDash(external_stylesheets=[dbc.themes.BOOTSTRAP])"
   ]
  },
  {
   "cell_type": "code",
   "execution_count": 3,
   "id": "81d8bde1",
   "metadata": {},
   "outputs": [],
   "source": [
    "# uncomment this line to load data from local file (last update Nov 5 2021)\n",
    "# location = 'covid.csv'\n",
    "location = 'https://raw.githubusercontent.com/owid/covid-19-data/master/public/data/owid-covid-data.csv'\n",
    "df = pd.read_csv(location)"
   ]
  },
  {
   "cell_type": "code",
   "execution_count": 4,
   "id": "139e5083",
   "metadata": {},
   "outputs": [],
   "source": [
    "df['date'] = pd.to_datetime(df.date)\n",
    "\n",
    "countries = df.location.unique().tolist()\n",
    "exclude = ['Africa', 'Asia', 'Europe', 'European Union', 'North America', \n",
    "           'South America', 'Oceania', 'World', 'International', 'High income',\n",
    "           'Upper middle income', 'Lower middle income', 'Low income']\n",
    "countries = list(set(countries).difference(exclude))\n",
    "\n",
    "continents = ['Africa', 'Asia', 'Europe', 'North America', 'South America', 'Oceania']\n",
    "\n",
    "countries_df = df[df['location'].isin(countries)]\n",
    "continent_df = df[df['location'].isin(continents)]\n",
    "\n",
    "# sort dataframe by date\n",
    "df_recent = countries_df.sort_values(by='date', ascending=False)\n",
    "\n",
    "# get most recent date in the dataframe\n",
    "most_recent = df_recent.date.iloc[0]\n",
    "\n",
    "# filter the data for the most recent date only\n",
    "df_recent = df_recent[df_recent['date'] == most_recent]\n",
    "\n",
    "df_recent = df_recent[df_recent['total_cases'].notna()]\n",
    "\n",
    "# sort dataframe by date\n",
    "continent_df_recent = continent_df.sort_values(by='date', ascending=False)\n",
    "\n",
    "# get most recent date in the dataframe\n",
    "most_recent = continent_df_recent.date.iloc[1]\n",
    "\n",
    "# filter the data for the most recent date only\n",
    "continent_df_recent = continent_df_recent[continent_df_recent['date'] == most_recent]"
   ]
  },
  {
   "cell_type": "code",
   "execution_count": 5,
   "id": "ac56f930",
   "metadata": {},
   "outputs": [],
   "source": [
    "world = df[df['location'] == 'World']\n",
    "\n",
    "cards = [\n",
    "    dbc.Card(\n",
    "        [\n",
    "            html.H2(\"{:,}\".format(int(world['total_cases'].iloc[-2])), className=\"card-title\"),\n",
    "            html.P(\"Total cases\", className=\"card-text\"),\n",
    "        ],\n",
    "        body=True,\n",
    "        color=\"light\",\n",
    "    ),\n",
    "    dbc.Card(\n",
    "        [\n",
    "            html.H2(\"{:,}\".format(int(world['total_deaths'].iloc[-2])), className=\"card-title\"),\n",
    "            html.P(\"Total Deaths\", className=\"card-text\"),\n",
    "        ],\n",
    "        body=True,\n",
    "        color=\"danger\",\n",
    "        inverse=True,\n",
    "    ),\n",
    "    dbc.Card(\n",
    "        [\n",
    "            html.H2(\"{:,}\".format(int(world['people_fully_vaccinated'].iloc[-2])), className=\"card-title\"),\n",
    "            html.P(\"Total Vaccinations\", className=\"card-text\"),\n",
    "        ],\n",
    "        body=True,\n",
    "        color=\"primary\",\n",
    "        inverse=True,\n",
    "    ),\n",
    "]\n",
    "\n",
    "first_row = dbc.Row([dbc.Col(card) for card in cards])"
   ]
  },
  {
   "cell_type": "code",
   "execution_count": 6,
   "id": "4aa1818f",
   "metadata": {
    "scrolled": false
   },
   "outputs": [],
   "source": [
    "world_map = px.scatter_geo(df_recent, \n",
    "                locations=\"iso_code\",\n",
    "                size=\"total_cases\",\n",
    "                color='continent',\n",
    "                hover_name='location',\n",
    "                hover_data=['total_deaths', 'total_vaccinations'],\n",
    "                width=1200, height=600,\n",
    "                title='Map of cases'\n",
    "            ).update(layout=dict(title=dict(x=0.5)))\n",
    "\n",
    "second_row = dbc.Row([\n",
    "    dbc.Col(dcc.Graph(figure=world_map))\n",
    "])"
   ]
  },
  {
   "cell_type": "code",
   "execution_count": 7,
   "id": "983b0deb",
   "metadata": {},
   "outputs": [],
   "source": [
    "fig1 = px.line(df[df['location'] == 'World'],\n",
    "        x='date',\n",
    "        y='new_cases',\n",
    "        title=\"Daily cases\"\n",
    "       ).update(layout=dict(title=dict(x=0.5)))\n",
    "\n",
    "fig2 = px.bar(continent_df_recent, \n",
    "       y='location', \n",
    "       x=['total_cases', 'total_deaths'],\n",
    "        title=\"Cases and Deaths per Continent\",\n",
    "       orientation='h').update(layout=dict(title=dict(x=0.5)))\n",
    "\n",
    "third_row = dbc.Row([\n",
    "    dbc.Col(dcc.Graph(figure=fig1)),\n",
    "    dbc.Col(dcc.Graph(figure=fig2))\n",
    "])"
   ]
  },
  {
   "cell_type": "code",
   "execution_count": 8,
   "id": "344fee29",
   "metadata": {},
   "outputs": [],
   "source": [
    "fourth_row = dbc.Row([\n",
    "    dbc.Col(dcc.Graph(id='graph3')),\n",
    "    dbc.Col(dcc.Graph(id='graph4')),\n",
    "])"
   ]
  },
  {
   "cell_type": "code",
   "execution_count": 9,
   "id": "433e8e1d",
   "metadata": {
    "scrolled": false
   },
   "outputs": [
    {
     "name": "stdout",
     "output_type": "stream",
     "text": [
      "Dash app running on http://127.0.0.1:8060/\n"
     ]
    }
   ],
   "source": [
    "CONTENT_STYLE = {\n",
    "    \"margin-left\": \"8rem\",\n",
    "    \"margin-right\": \"8rem\",\n",
    "    \"padding\": \"2rem 1rem\",\n",
    "}\n",
    "\n",
    "app.layout = html.Div([\n",
    "    \n",
    "    dbc.Row([html.H1(\"COVID-19 : \"+str(most_recent.date()), style={'textAlign': 'center'})]),\n",
    "    first_row,\n",
    "    second_row,\n",
    "    third_row,\n",
    "    dcc.Dropdown(\n",
    "        id='my_dropdown',\n",
    "        options=[{'label':str(c), 'value': str(c)} for c in countries_df.location.unique()],\n",
    "        multi=True,\n",
    "        value=['']\n",
    "    ),\n",
    "    fourth_row,\n",
    "    \n",
    "    \n",
    "],\n",
    "    style =CONTENT_STYLE\n",
    "\n",
    ")\n",
    "\n",
    "\n",
    "@app.callback(\n",
    "    Output(component_id='graph3', component_property='figure'),\n",
    "    Output(component_id='graph4', component_property='figure'),\n",
    "    Input(component_id='my_dropdown', component_property='value')\n",
    ")\n",
    "def update_my_graph(dropDown_value):\n",
    "    fig3 = px.scatter(df_recent[(np.isin(df_recent.location, dropDown_value))],\n",
    "        x='people_fully_vaccinated_per_hundred',\n",
    "        y='new_deaths_smoothed_per_million',\n",
    "        hover_name='location',\n",
    "        size='total_cases_per_million',\n",
    "        color='location',\n",
    "        title='Vaccinated & Deaths'\n",
    "        ).update(layout=dict(title=dict(x=0.5)))\n",
    "\n",
    "    fig4 = px.line(countries_df[np.isin(countries_df.location, dropDown_value)],\n",
    "        x='date',\n",
    "        y='new_deaths_smoothed_per_million',\n",
    "        hover_name='location',\n",
    "        color='location',\n",
    "        title=\"World's Daily Deaths\"\n",
    "        ).update(layout=dict(title=dict(x=0.5)))\n",
    "    \n",
    "    return fig3, fig4\n",
    "\n",
    "\n",
    "\n",
    "app.run_server(mode='external', port=8060)"
   ]
  },
  {
   "cell_type": "code",
   "execution_count": null,
   "id": "2fec912a",
   "metadata": {},
   "outputs": [],
   "source": []
  },
  {
   "cell_type": "code",
   "execution_count": null,
   "id": "845bd5e1",
   "metadata": {},
   "outputs": [],
   "source": []
  },
  {
   "cell_type": "code",
   "execution_count": null,
   "id": "7ea4f271",
   "metadata": {},
   "outputs": [],
   "source": []
  }
 ],
 "metadata": {
  "kernelspec": {
   "display_name": "Python 3",
   "language": "python",
   "name": "python3"
  },
  "language_info": {
   "codemirror_mode": {
    "name": "ipython",
    "version": 3
   },
   "file_extension": ".py",
   "mimetype": "text/x-python",
   "name": "python",
   "nbconvert_exporter": "python",
   "pygments_lexer": "ipython3",
   "version": "3.8.8"
  }
 },
 "nbformat": 4,
 "nbformat_minor": 5
}
